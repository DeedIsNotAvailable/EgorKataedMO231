{
 "cells": [
  {
   "cell_type": "code",
   "execution_count": null,
   "metadata": {
    "dotnet_interactive": {
     "language": "csharp"
    },
    "polyglot_notebook": {
     "kernelName": "csharp"
    }
   },
   "outputs": [],
   "source": [
    "using Newtonsoft.Json;\n",
    "using System.Linq;\n",
    "using System.IO;\n",
    "using Newtonsoft.Json.Linq;\n",
    "using System.Collections.Generic;\n",
    "\n",
    "List<Student> enteries = JsonConvert.DeserializeObject<List<Student>>(File.ReadAllText(\"enteries.json\"));\n",
    "\n",
    "public class Student\n",
    "{\n",
    "    public string name;\n",
    "    public string group;\n",
    "    public string discipline;\n",
    "    public int mark;\n",
    "}\n",
    "\n",
    "var HighestAverageInGroups = enteries\n",
    ".GroupBy(x => x.group)\n",
    ".Select(x => x\n",
    "    .GroupBy(t => t.name)\n",
    "    .Select(t => new { name = t.Key, gpa = t.Average(i => i.mark)})\n",
    "    .OrderByDescending(t => t.gpa)\n",
    "    .First())\n",
    ";\n",
    "\n",
    "foreach(var stud in HighestAverageInGroups) Console.WriteLine(stud.ToString());\n",
    "\n",
    "File.WriteAllText(\"studentsGPA.json\", JsonConvert.SerializeObject(HighestAverageInGroups));"
   ]
  },
  {
   "cell_type": "code",
   "execution_count": null,
   "metadata": {
    "dotnet_interactive": {
     "language": "csharp"
    },
    "polyglot_notebook": {
     "kernelName": "csharp"
    }
   },
   "outputs": [],
   "source": [
    "List<Student> enteries = JsonConvert.DeserializeObject<List<Student>>(File.ReadAllText(\"enteries.json\"));\n",
    "\n",
    "var AverageMarkDis = enteries\n",
    ".GroupBy(x => x.discipline)\n",
    ".Select(x => new { discipline = x.Key, avgmark = x.Average(t => t.mark) });\n",
    "\n",
    "foreach(var mark in AverageMarkDis) Console.WriteLine(mark.ToString());\n",
    "\n",
    "File.WriteAllText(\"AverageMarkDis.json\", JsonConvert.SerializeObject(AverageMarkDis));"
   ]
  },
  {
   "cell_type": "code",
   "execution_count": null,
   "metadata": {
    "dotnet_interactive": {
     "language": "csharp"
    },
    "polyglot_notebook": {
     "kernelName": "csharp"
    }
   },
   "outputs": [],
   "source": [
    "List<Student> enteries = JsonConvert.DeserializeObject<List<Student>>(File.ReadAllText(\"enteries.json\"));\n",
    "\n",
    "var BestGroupByDiscipline = enteries\n",
    ".GroupBy(x => x.discipline)\n",
    ".Select(x => x\n",
    "    .GroupBy(t => t.group)\n",
    "    .Select(t => new { discipline = x.Key, group = t.Key, gpa = t.Average(i => i.mark) })\n",
    "    .OrderByDescending(t => t.gpa)\n",
    "    .First())\n",
    ";\n",
    "\n",
    "foreach(var group in BestGroupByDiscipline) Console.WriteLine(group.ToString());\n",
    "\n",
    "File.WriteAllText(\"BestGroupByDiscipline.json\", JsonConvert.SerializeObject(BestGroupByDiscipline));"
   ]
  }
 ],
 "metadata": {
  "kernelspec": {
   "display_name": ".NET (C#)",
   "language": "C#",
   "name": ".net-csharp"
  },
  "polyglot_notebook": {
   "kernelInfo": {
    "defaultKernelName": "csharp",
    "items": [
     {
      "aliases": [],
      "languageName": "csharp",
      "name": "csharp"
     }
    ]
   }
  }
 },
 "nbformat": 4,
 "nbformat_minor": 2
}
