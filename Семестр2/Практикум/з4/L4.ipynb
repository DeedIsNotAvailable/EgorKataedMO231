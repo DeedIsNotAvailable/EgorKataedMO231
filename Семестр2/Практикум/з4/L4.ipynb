{
 "cells": [
  {
   "cell_type": "code",
   "execution_count": 3,
   "metadata": {
    "dotnet_interactive": {
     "language": "csharp"
    },
    "polyglot_notebook": {
     "kernelName": "csharp"
    }
   },
   "outputs": [
    {
     "name": "stdout",
     "output_type": "stream",
     "text": [
      "Microsoft.CodeAnalysis.EmbeddedAttribute\n",
      "System.Runtime.CompilerServices.NullableAttribute\n",
      "System.Runtime.CompilerServices.NullableContextAttribute\n",
      "HWdTech.ICommand\n",
      "HWdTech.IoC\n",
      "HWdTech.IoC+SetupCommand\n",
      "HWdTech.IoC+<>c\n"
     ]
    }
   ],
   "source": [
    "using System.Reflection;\n",
    "Assembly asm = Assembly.LoadFrom(\"core.dll\");\n",
    "\n",
    "Type[] types = asm.GetTypes();\n",
    "foreach (Type t in types)\n",
    "{\n",
    "    Console.WriteLine(t);\n",
    "}"
   ]
  }
 ],
 "metadata": {
  "kernelspec": {
   "display_name": ".NET (C#)",
   "language": "C#",
   "name": ".net-csharp"
  },
  "polyglot_notebook": {
   "kernelInfo": {
    "defaultKernelName": "csharp",
    "items": [
     {
      "aliases": [],
      "name": "csharp"
     }
    ]
   }
  }
 },
 "nbformat": 4,
 "nbformat_minor": 2
}
